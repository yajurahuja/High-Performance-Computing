{
 "cells": [
  {
   "cell_type": "code",
   "execution_count": 1,
   "id": "df7123ac",
   "metadata": {},
   "outputs": [],
   "source": [
    "import numpy as np"
   ]
  },
  {
   "cell_type": "code",
   "execution_count": 94,
   "id": "2d83ff70",
   "metadata": {},
   "outputs": [],
   "source": [
    "def create_A(N):\n",
    "    A = np.array([np.array([0 for i in range(N + 2)]) for j in range(N + 2)])\n",
    "    h = 1.0 / (N + 1)\n",
    "    for i in range(N + 2):\n",
    "        for j in range(N + 2):\n",
    "            if i == 0 or i == N + 1:\n",
    "                A[i][i] = 1\n",
    "            elif i == 1:\n",
    "                A[i][i] = 2    \n",
    "                A[i][i + 1] = -1\n",
    "            elif i == N:\n",
    "                A[i][i-1] = -1\n",
    "                A[i][i] = 2\n",
    "            else:\n",
    "                A[i][i - 1] = -1\n",
    "                A[i][i] = 2\n",
    "                A[i][i + 1] = -1\n",
    "    return 1.0 / (h ** 2) * A"
   ]
  },
  {
   "cell_type": "code",
   "execution_count": 95,
   "id": "8e832513",
   "metadata": {},
   "outputs": [
    {
     "name": "stdout",
     "output_type": "stream",
     "text": [
      "[[ 36.   0.   0.   0.   0.   0.   0.]\n",
      " [  0.  72. -36.   0.   0.   0.   0.]\n",
      " [  0. -36.  72. -36.   0.   0.   0.]\n",
      " [  0.   0. -36.  72. -36.   0.   0.]\n",
      " [  0.   0.   0. -36.  72. -36.   0.]\n",
      " [  0.   0.   0.   0. -36.  72.   0.]\n",
      " [  0.   0.   0.   0.   0.   0.  36.]]\n"
     ]
    }
   ],
   "source": [
    "print(create_A(5))"
   ]
  },
  {
   "cell_type": "code",
   "execution_count": 96,
   "id": "dcf34f96",
   "metadata": {},
   "outputs": [],
   "source": [
    "def norm(A, u, f, N):\n",
    "    diff = np.matmul(A, u) - f\n",
    "    return np.sqrt(sum(diff**2))"
   ]
  },
  {
   "cell_type": "code",
   "execution_count": 97,
   "id": "2b7633e6",
   "metadata": {},
   "outputs": [],
   "source": [
    "def jacobi(N, f, iterations):\n",
    "    A = create_A(N)\n",
    "    u = np.array([0.0 for i in range(N + 2)])\n",
    "    u_prev = np.array([0.0 for i in range(N + 2)])\n",
    "    for k in range(iterations):\n",
    "        for i in range(N + 2):\n",
    "            u[i] = f[i]\n",
    "            s = np.dot(A[i, :], u_prev) - (A[i][i] * u_prev[i])\n",
    "            u[i] -= s\n",
    "            u[i] = u[i] / (A[i][i])\n",
    "        u_prev = np.copy(u)\n",
    "        print(norm(A, u, f, N))\n",
    "    return u"
   ]
  },
  {
   "cell_type": "code",
   "execution_count": 105,
   "id": "0875f24a",
   "metadata": {},
   "outputs": [],
   "source": [
    "def gauss_seidel(N, f, iterations):\n",
    "    A = create_A(N)\n",
    "    u = np.array([0.0 for i in range(N + 2)])\n",
    "    u_prev = np.array([0.0 for i in range(N + 2)])\n",
    "    for k in range(iterations):\n",
    "        for i in range(N + 2):\n",
    "            u[i] = f[i]\n",
    "            s = np.matmul(A[i, :i], u[:i]) + np.matmul(A[i, i + 1:], u_prev[i + 1: ])\n",
    "            u[i] -= s\n",
    "            u[i] = u[i] / (A[i][i])\n",
    "        u_prev = np.copy(u)\n",
    "#         print(norm(A, u, f, N))\n",
    "    return u"
   ]
  },
  {
   "cell_type": "code",
   "execution_count": 113,
   "id": "1740227c",
   "metadata": {},
   "outputs": [
    {
     "name": "stdout",
     "output_type": "stream",
     "text": [
      "1.8708286933869707\n",
      "1.620185174601965\n",
      "1.403121520040228\n",
      "1.2151388809514738\n",
      "1.052341140030171\n",
      "0.9113541607136053\n",
      "0.7892558550226283\n",
      "0.683515620535204\n",
      "0.5919418912669712\n",
      "0.512636715401403\n",
      "0.4439564184502284\n",
      "0.38447753655105227\n",
      "0.3329673138376713\n",
      "0.2883581524132892\n",
      "0.24972548537825348\n",
      "0.21626861430996688\n",
      "0.18729411403369012\n",
      "0.16220146073247518\n",
      "0.1404705855252676\n",
      "0.12165109554935638\n",
      "0.10535293914395068\n",
      "0.09123832166201729\n",
      "0.07901470435796301\n",
      "0.06842874124651296\n",
      "0.05926102826847226\n",
      "0.05132155593488472\n",
      "0.04444577120135419\n",
      "0.038491166951163544\n",
      "0.03333432840101565\n",
      "0.028868375213372655\n",
      "0.025000746300761736\n",
      "0.02165128141002949\n",
      "0.0187505597255713\n",
      "0.016238461057522118\n",
      "0.014062919794178475\n",
      "0.01217884579314159\n",
      "0.010547189845633858\n",
      "0.009134134344856193\n",
      "0.007910392384225392\n",
      "0.006850600758642144\n",
      "0.005932794288169044\n",
      "0.005137950568981608\n",
      "0.0044495957161267835\n",
      "0.003853462926736206\n",
      "0.0033371967870950876\n",
      "0.0028900971950521544\n",
      "0.0025028975903213157\n",
      "0.002167572896289116\n",
      "0.0018771731927409868\n",
      "0.001625679672216837\n",
      "[0.         0.06939567 0.1110275  0.12490245 0.1110275  0.06939567\n",
      " 0.        ]\n"
     ]
    }
   ],
   "source": [
    "N = 5\n",
    "f = [1 for i in range(N + 2)]\n",
    "f[0] = f[-1] = 0\n",
    "u = gauss_seidel(N, f, 50)\n",
    "print(u)"
   ]
  },
  {
   "cell_type": "code",
   "execution_count": 110,
   "id": "05bb8426",
   "metadata": {},
   "outputs": [
    {
     "name": "stdout",
     "output_type": "stream",
     "text": [
      "0.07173441302754041\n"
     ]
    }
   ],
   "source": [
    "A = create_A(N)\n",
    "u_true= np.dot(np.linalg.inv(A), f)\n",
    "print(norm(A, u, f, N))"
   ]
  },
  {
   "cell_type": "code",
   "execution_count": 86,
   "id": "6b493056",
   "metadata": {},
   "outputs": [
    {
     "name": "stdout",
     "output_type": "stream",
     "text": [
      "0.0004848002110422478\n"
     ]
    }
   ],
   "source": [
    "print(norm(A, u, f, N))"
   ]
  },
  {
   "cell_type": "code",
   "execution_count": null,
   "id": "e5957ed2",
   "metadata": {},
   "outputs": [],
   "source": []
  }
 ],
 "metadata": {
  "kernelspec": {
   "display_name": "Python 3 (ipykernel)",
   "language": "python",
   "name": "python3"
  },
  "language_info": {
   "codemirror_mode": {
    "name": "ipython",
    "version": 3
   },
   "file_extension": ".py",
   "mimetype": "text/x-python",
   "name": "python",
   "nbconvert_exporter": "python",
   "pygments_lexer": "ipython3",
   "version": "3.9.7"
  }
 },
 "nbformat": 4,
 "nbformat_minor": 5
}
