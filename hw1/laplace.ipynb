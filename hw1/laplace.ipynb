{
 "cells": [
  {
   "cell_type": "code",
   "execution_count": 119,
   "id": "8a32f91f",
   "metadata": {},
   "outputs": [],
   "source": [
    "import numpy as np"
   ]
  },
  {
   "cell_type": "code",
   "execution_count": 120,
   "id": "0c051664",
   "metadata": {},
   "outputs": [],
   "source": [
    "def create_A(N):\n",
    "    A = np.array([np.array([0 for i in range(N + 2)]) for j in range(N + 2)])\n",
    "    h = 1.0 / (N + 1)\n",
    "    for i in range(N + 2):\n",
    "        for j in range(N + 2):\n",
    "            if i == 0 or i == N + 1:\n",
    "                A[i][i] = 1\n",
    "            elif i == 1:\n",
    "                A[i][i] = 2    \n",
    "                A[i][i + 1] = -1\n",
    "            elif i == N:\n",
    "                A[i][i-1] = -1\n",
    "                A[i][i] = 2\n",
    "            else:\n",
    "                A[i][i - 1] = -1\n",
    "                A[i][i] = 2\n",
    "                A[i][i + 1] = -1\n",
    "    return 1.0 / (h ** 2) * A"
   ]
  },
  {
   "cell_type": "code",
   "execution_count": 122,
   "id": "aee2be7b",
   "metadata": {},
   "outputs": [],
   "source": [
    "def norm(A, u, f, N):\n",
    "    diff = np.matmul(A, u) - f\n",
    "    return np.sqrt(sum(diff**2))"
   ]
  },
  {
   "cell_type": "code",
   "execution_count": 125,
   "id": "13e48f99",
   "metadata": {},
   "outputs": [],
   "source": [
    "def jacobi(N, f, iterations):\n",
    "    A = create_A(N)\n",
    "    u = np.array([0.0 for i in range(N + 2)])\n",
    "    u_prev = np.array([0.0 for i in range(N + 2)])\n",
    "    for k in range(iterations):\n",
    "        for i in range(N + 2):\n",
    "            u[i] = f[i]\n",
    "            s = np.dot(A[i, :], u_prev) - (A[i][i] * u_prev[i])\n",
    "            u[i] -= s\n",
    "            u[i] = u[i] / (A[i][i])\n",
    "        u_prev = np.copy(u)\n",
    "        #print(norm(A, u, f, N))\n",
    "    return u"
   ]
  },
  {
   "cell_type": "code",
   "execution_count": 137,
   "id": "f7505d41",
   "metadata": {},
   "outputs": [],
   "source": [
    "def gauss_seidel(N, f, iterations):\n",
    "    A = create_A(N)\n",
    "    u = np.array([0.0 for i in range(N + 2)])\n",
    "    u_prev = np.array([0.0 for i in range(N + 2)])\n",
    "    for k in range(iterations):\n",
    "        for i in range(N + 2):\n",
    "            u[i] = f[i]\n",
    "            s = np.matmul(A[i, :i], u[:i]) + np.matmul(A[i, i + 1:], u_prev[i + 1: ])\n",
    "            u[i] -= s\n",
    "            u[i] = u[i] / (A[i][i])\n",
    "        u_prev = np.copy(u)\n",
    "        #print(norm(A, u, f, N))\n",
    "    return u"
   ]
  },
  {
   "cell_type": "code",
   "execution_count": 145,
   "id": "e9ca34ec",
   "metadata": {},
   "outputs": [
    {
     "name": "stdout",
     "output_type": "stream",
     "text": [
      "[0.         0.00454443 0.00899117 0.01334057 0.01759298 0.02174873\n",
      " 0.02580818 0.02977166 0.03363951 0.03741206 0.04108965 0.04467262\n",
      " 0.04816128 0.05155596 0.05485698 0.05806465 0.0611793  0.06420121\n",
      " 0.0671307  0.06996806 0.07271358 0.07536754 0.07793022 0.08040189\n",
      " 0.08278282 0.08507326 0.08727347 0.08938368 0.09140413 0.09333505\n",
      " 0.09517665 0.09692914 0.09859274 0.10016762 0.10165397 0.10305197\n",
      " 0.10436178 0.10558356 0.10671745 0.10776359 0.1087221  0.10959311\n",
      " 0.11037671 0.111073   0.11168206 0.11220398 0.11263882 0.11298662\n",
      " 0.11324744 0.11342129 0.11350822 0.11350822 0.11342129 0.11324744\n",
      " 0.11298662 0.11263882 0.11220398 0.11168206 0.111073   0.11037671\n",
      " 0.10959311 0.1087221  0.10776359 0.10671745 0.10558356 0.10436178\n",
      " 0.10305197 0.10165397 0.10016762 0.09859274 0.09692914 0.09517665\n",
      " 0.09333505 0.09140413 0.08938368 0.08727347 0.08507326 0.08278282\n",
      " 0.08040189 0.07793022 0.07536754 0.07271358 0.06996806 0.0671307\n",
      " 0.06420121 0.0611793  0.05806465 0.05485698 0.05155596 0.04816128\n",
      " 0.04467262 0.04108965 0.03741206 0.03363951 0.02977166 0.02580818\n",
      " 0.02174873 0.01759298 0.01334057 0.00899117 0.00454443 0.        ]\n"
     ]
    }
   ],
   "source": [
    "N = 100\n",
    "f = [1 for i in range(N + 2)]\n",
    "f[0] = f[-1] = 0\n",
    "u = jacobi(N, f, 5000)\n",
    "print(u)"
   ]
  },
  {
   "cell_type": "code",
   "execution_count": 142,
   "id": "9b002432",
   "metadata": {},
   "outputs": [
    {
     "name": "stdout",
     "output_type": "stream",
     "text": [
      "[0.         0.00490148 0.00970493 0.01441035 0.01901774 0.02352711\n",
      " 0.02793844 0.03225174 0.03646701 0.04058426 0.04460347 0.04852465\n",
      " 0.05234781 0.05607293 0.05970003 0.0632291  0.06666013 0.06999314\n",
      " 0.07322811 0.07636506 0.07940398 0.08234487 0.08518773 0.08793256\n",
      " 0.09057935 0.09312812 0.09557886 0.09793158 0.10018626 0.10234291\n",
      " 0.10440153 0.10636212 0.10822468 0.10998922 0.11165572 0.11322419\n",
      " 0.11469464 0.11606705 0.11734144 0.11851779 0.11959612 0.12057641\n",
      " 0.12145868 0.12224292 0.12292912 0.1235173  0.12400745 0.12439957\n",
      " 0.12469366 0.12488972 0.12498775 0.12498775 0.12488972 0.12469366\n",
      " 0.12439957 0.12400745 0.1235173  0.12292912 0.12224292 0.12145868\n",
      " 0.12057641 0.11959612 0.11851779 0.11734144 0.11606705 0.11469464\n",
      " 0.11322419 0.11165572 0.10998922 0.10822468 0.10636212 0.10440153\n",
      " 0.10234291 0.10018626 0.09793158 0.09557886 0.09312812 0.09057935\n",
      " 0.08793256 0.08518773 0.08234487 0.07940398 0.07636506 0.07322811\n",
      " 0.06999314 0.06666013 0.0632291  0.05970003 0.05607293 0.05234781\n",
      " 0.04852465 0.04460347 0.04058426 0.03646701 0.03225174 0.02793844\n",
      " 0.02352711 0.01901774 0.01441035 0.00970493 0.00490148 0.        ]\n",
      "0.0005681460407975119\n"
     ]
    }
   ],
   "source": [
    "A = create_A(N)\n",
    "u_true= np.dot(np.linalg.inv(A), f)\n",
    "print(u_true)\n",
    "print(norm(A, u, f, N))"
   ]
  },
  {
   "cell_type": "code",
   "execution_count": 146,
   "id": "41111a91",
   "metadata": {},
   "outputs": [
    {
     "name": "stdout",
     "output_type": "stream",
     "text": [
      "0.8051689296560408\n"
     ]
    }
   ],
   "source": [
    "print(norm(A, u, f, N))"
   ]
  },
  {
   "cell_type": "code",
   "execution_count": null,
   "id": "d1bccc69",
   "metadata": {},
   "outputs": [],
   "source": []
  }
 ],
 "metadata": {
  "kernelspec": {
   "display_name": "Python 3 (ipykernel)",
   "language": "python",
   "name": "python3"
  },
  "language_info": {
   "codemirror_mode": {
    "name": "ipython",
    "version": 3
   },
   "file_extension": ".py",
   "mimetype": "text/x-python",
   "name": "python",
   "nbconvert_exporter": "python",
   "pygments_lexer": "ipython3",
   "version": "3.9.7"
  }
 },
 "nbformat": 4,
 "nbformat_minor": 5
}
